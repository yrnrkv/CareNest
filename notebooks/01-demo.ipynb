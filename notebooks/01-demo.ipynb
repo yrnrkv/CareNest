{
  "cells": [
    {
      "cell_type": "markdown",
      "id": "ce6eaddc",
      "metadata": {},
      "source": [
        "# 01-Demo: CareNest Pipelines  \n",
        "This notebook walks through:\n",
        "1. Synthetic data generation  \n",
        "2. Training the RandomForest (`care_nest.py`)  \n",
        "3. Training the IsolationForest (`isolation_forest.py`)  \n",
        "4. Visualizing results  \n"
      ]
    },
    {
      "cell_type": "code",
      "execution_count": null,
      "id": "5a5edc4f",
      "metadata": {},
      "outputs": [],
      "source": [
        "# path hack so we can import your src modules\n",
        "import sys\n",
        "sys.path.append(\"src\")\n",
        "\n",
        "from care_nest import generate_synthetic_data, train_and_evaluate\n",
        "from isolation_forest import load_data, engineer_features, train_if, detect_anomalies\n"
      ]
    },
    {
      "cell_type": "code",
      "execution_count": null,
      "id": "b70f8e5c",
      "metadata": {},
      "outputs": [],
      "source": [
        "# 1. Generate synthetic data\n",
        "df = generate_synthetic_data(cycles=2)\n",
        "df.head()\n"
      ]
    },
    {
      "cell_type": "code",
      "execution_count": null,
      "id": "cd13aafe",
      "metadata": {},
      "outputs": [],
      "source": [
        "# 2. Train RandomForest\n",
        "rf_model = train_and_evaluate(df)\n"
      ]
    },
    {
      "cell_type": "code",
      "execution_count": null,
      "id": "03e001c0",
      "metadata": {},
      "outputs": [],
      "source": [
        "# 3. Train IsolationForest\n",
        "df_readings = df.copy()\n",
        "df_feat = engineer_features(df_readings)\n",
        "if_model = train_if(df_feat)\n",
        "df_ann = detect_anomalies(df_feat, if_model)\n",
        "df_ann[['sensor1_temp','anomaly']].head()\n"
      ]
    },
    {
      "cell_type": "code",
      "execution_count": null,
      "id": "f44e30e4",
      "metadata": {},
      "outputs": [],
      "source": [
        "import matplotlib.pyplot as plt\n",
        "\n",
        "plt.scatter(df_ann.index, df_ann['sensor1_temp'], \n",
        "            c=df_ann['anomaly'], cmap='coolwarm', s=5)\n",
        "plt.title(\"Sensor1 Temp (red=anomaly)\")\n",
        "plt.show()\n"
      ]
    }
  ],
  "metadata": {
    "language_info": {
      "name": "python"
    }
  },
  "nbformat": 4,
  "nbformat_minor": 5
}
